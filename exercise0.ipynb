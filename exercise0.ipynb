{
 "cells": [
  {
   "cell_type": "markdown",
   "metadata": {},
   "source": [
    "* There are two types of cells: Markdown cells (like this one) and code cells\n",
    "* When a cell is selected, pressing `Enter` puts you in editing mode and pressing `Escape` takes you out of editing mode\n",
    "* Pressing `Shift + Enter` runs the cell and proceeds to the next cell, and `Ctrl + Enter` just runs the cell"
   ]
  },
  {
   "cell_type": "markdown",
   "metadata": {},
   "source": [
    "Run the following cell:"
   ]
  },
  {
   "cell_type": "code",
   "execution_count": null,
   "metadata": {},
   "outputs": [],
   "source": [
    "1 + 1"
   ]
  },
  {
   "cell_type": "markdown",
   "metadata": {},
   "source": [
    "* To change a code cell to a Markdown cell, exit editing mode and press `M`\n",
    "* To change a Markdown cell to a code cell, enter then exit editing mode, and then press `Y`"
   ]
  },
  {
   "cell_type": "markdown",
   "metadata": {},
   "source": [
    "* To create a cell above or below the current cell, use `a` and `b` while outside editing mode\n",
    "* To delete a cell, use `x`"
   ]
  },
  {
   "cell_type": "code",
   "execution_count": null,
   "metadata": {},
   "outputs": [],
   "source": [
    "println(\"Hi!\")"
   ]
  },
  {
   "cell_type": "markdown",
   "metadata": {},
   "source": [
    "## Fill in the following cell (which will be placed at the beginning of future exercises):"
   ]
  },
  {
   "cell_type": "markdown",
   "metadata": {},
   "source": [
    "### Last name: McUndergrad\n",
    "### First name: Undergrad\n",
    "### Student number: 0123456789\n",
    "### List of collaborators (if any): \n",
    "* Last name, first name\n",
    "* Last name, first name\n",
    "* Last name, first name"
   ]
  },
  {
   "cell_type": "markdown",
   "metadata": {},
   "source": [
    "### Submission instructions for when you're done:\n",
    "Submit your executed notebook as a PDF document according to the instructions in the course syllabus. The most robust way to convert to PDF is as follows:\n",
    "* Go to File -> Download as -> html and download the notebook as HTML\n",
    "* Open the HTML document in your browser and print it as a PDF\n",
    "    * If you don't know how to print to PDF, Google instructions specific to your web browser\n",
    "* Make sure that all of the required output is visible in the PDF"
   ]
  },
  {
   "cell_type": "markdown",
   "metadata": {},
   "source": [
    "To check the documentation of a function, use a ```?```"
   ]
  },
  {
   "cell_type": "markdown",
   "metadata": {},
   "source": [
    "Some initial tips: \n",
    "* Use Kernel -> Interrupt to stop something from running (infinite loop, taking too long, etc.)\n",
    "* Use Kernel -> Restart or Restart & Clear Output to restart the Julia session clearing all variables, function definitions, etc.\n",
    "* Consider using Restart & Run All once you've completed your notebook before exporting for submission (make sure any required output is present though!)\n",
    "* Autosaving isn't continuous so save liberally by pressing `Ctrl` + `S`"
   ]
  },
  {
   "cell_type": "markdown",
   "metadata": {},
   "source": [
    "To check the documentation of a function, use ```?``` as follows:"
   ]
  },
  {
   "cell_type": "code",
   "execution_count": null,
   "metadata": {},
   "outputs": [],
   "source": [
    "?println"
   ]
  },
  {
   "cell_type": "markdown",
   "metadata": {},
   "source": [
    "Run the following cells:"
   ]
  },
  {
   "cell_type": "code",
   "execution_count": null,
   "metadata": {},
   "outputs": [],
   "source": [
    "x = 2 + 2"
   ]
  },
  {
   "cell_type": "code",
   "execution_count": null,
   "metadata": {},
   "outputs": [],
   "source": [
    "y = 9/2"
   ]
  },
  {
   "cell_type": "code",
   "execution_count": null,
   "metadata": {},
   "outputs": [],
   "source": [
    "x^2"
   ]
  },
  {
   "cell_type": "code",
   "execution_count": null,
   "metadata": {},
   "outputs": [],
   "source": [
    "4%2"
   ]
  },
  {
   "cell_type": "code",
   "execution_count": null,
   "metadata": {},
   "outputs": [],
   "source": [
    "3%2"
   ]
  },
  {
   "cell_type": "code",
   "execution_count": null,
   "metadata": {},
   "outputs": [],
   "source": [
    "typeof(x)"
   ]
  },
  {
   "cell_type": "code",
   "execution_count": null,
   "metadata": {},
   "outputs": [],
   "source": [
    "typeof(y)"
   ]
  },
  {
   "cell_type": "markdown",
   "metadata": {},
   "source": [
    "Unicode variable names are supported:\n",
    "* Use ```\\mu``` followed by a `Tab` to get a $\\mu$\n",
    "* Use ```\\:smi``` follwed by a `Tab`, select the emoji from the list and press `enter`, then press `Tab` followed by `enter`"
   ]
  },
  {
   "cell_type": "code",
   "execution_count": null,
   "metadata": {},
   "outputs": [],
   "source": [
    "λ = 7\n",
    "1 + 2λ"
   ]
  },
  {
   "cell_type": "code",
   "execution_count": null,
   "metadata": {},
   "outputs": [],
   "source": [
    "😢 = 14"
   ]
  },
  {
   "cell_type": "code",
   "execution_count": null,
   "metadata": {},
   "outputs": [],
   "source": [
    "😄 = 15"
   ]
  },
  {
   "cell_type": "code",
   "execution_count": null,
   "metadata": {},
   "outputs": [],
   "source": [
    "😄 == 😢 + 1 "
   ]
  },
  {
   "cell_type": "markdown",
   "metadata": {},
   "source": [
    "Generic and typed arrays can be created. Run the following cells:"
   ]
  },
  {
   "cell_type": "code",
   "execution_count": null,
   "metadata": {},
   "outputs": [],
   "source": [
    "A = [1, 2, 7]"
   ]
  },
  {
   "cell_type": "code",
   "execution_count": null,
   "metadata": {},
   "outputs": [],
   "source": [
    "B = Float64[1, 2, 7]"
   ]
  },
  {
   "cell_type": "code",
   "execution_count": null,
   "metadata": {},
   "outputs": [],
   "source": [
    "C = [1, \"Two\", 7]"
   ]
  },
  {
   "cell_type": "markdown",
   "metadata": {},
   "source": [
    "Indexing is 1-based"
   ]
  },
  {
   "cell_type": "code",
   "execution_count": null,
   "metadata": {},
   "outputs": [],
   "source": [
    "C[3]"
   ]
  },
  {
   "cell_type": "markdown",
   "metadata": {},
   "source": [
    "* Copying mutable objects works as in Python\n",
    "* Comments are inserted using ```#```\n",
    "* The shortcut `Ctrl + /` can be used to comment out a line or multiple highlighted lines"
   ]
  },
  {
   "cell_type": "code",
   "execution_count": null,
   "metadata": {},
   "outputs": [],
   "source": [
    "A"
   ]
  },
  {
   "cell_type": "code",
   "execution_count": null,
   "metadata": {},
   "outputs": [],
   "source": [
    "D = A # D refers to A\n",
    "D[2] = 100; # ; suppresses output "
   ]
  },
  {
   "cell_type": "code",
   "execution_count": null,
   "metadata": {},
   "outputs": [],
   "source": [
    "D"
   ]
  },
  {
   "cell_type": "code",
   "execution_count": null,
   "metadata": {},
   "outputs": [],
   "source": [
    "A"
   ]
  },
  {
   "cell_type": "code",
   "execution_count": null,
   "metadata": {},
   "outputs": [],
   "source": [
    "E = copy(D)"
   ]
  },
  {
   "cell_type": "code",
   "execution_count": null,
   "metadata": {},
   "outputs": [],
   "source": [
    "E = E.*E"
   ]
  },
  {
   "cell_type": "code",
   "execution_count": null,
   "metadata": {},
   "outputs": [],
   "source": [
    "D"
   ]
  },
  {
   "cell_type": "code",
   "execution_count": null,
   "metadata": {},
   "outputs": [],
   "source": [
    "F = E[:] # Equivalent to copy"
   ]
  },
  {
   "cell_type": "code",
   "execution_count": null,
   "metadata": {},
   "outputs": [],
   "source": [
    "F = F .+ 1"
   ]
  },
  {
   "cell_type": "code",
   "execution_count": null,
   "metadata": {},
   "outputs": [],
   "source": [
    "E"
   ]
  },
  {
   "cell_type": "markdown",
   "metadata": {},
   "source": [
    "* Logical operators are ```&&```, ```||```, ```==```, ```!=```, ```<```, ```<=```, etc.\n",
    "* Spaces/tabs  and colons are not necessary in functions, loops, conditionals, etc."
   ]
  },
  {
   "cell_type": "markdown",
   "metadata": {},
   "source": [
    "Traditional function definition:"
   ]
  },
  {
   "cell_type": "code",
   "execution_count": null,
   "metadata": {},
   "outputs": [],
   "source": [
    "function f(x)\n",
    "    return x^2\n",
    "end"
   ]
  },
  {
   "cell_type": "markdown",
   "metadata": {},
   "source": [
    "Fancy function definition:"
   ]
  },
  {
   "cell_type": "code",
   "execution_count": null,
   "metadata": {},
   "outputs": [],
   "source": [
    "g(x) = x^3"
   ]
  },
  {
   "cell_type": "code",
   "execution_count": null,
   "metadata": {},
   "outputs": [],
   "source": [
    "f(5) # 5^2"
   ]
  },
  {
   "cell_type": "code",
   "execution_count": null,
   "metadata": {},
   "outputs": [],
   "source": [
    "g(2) # 2^3"
   ]
  },
  {
   "cell_type": "markdown",
   "metadata": {},
   "source": [
    "Multiplication concatenates strings"
   ]
  },
  {
   "cell_type": "code",
   "execution_count": null,
   "metadata": {},
   "outputs": [],
   "source": [
    "\"Cheese\"*\"cake\""
   ]
  },
  {
   "cell_type": "code",
   "execution_count": null,
   "metadata": {},
   "outputs": [],
   "source": [
    "M = [1 0; 1 1]"
   ]
  },
  {
   "cell_type": "code",
   "execution_count": null,
   "metadata": {},
   "outputs": [],
   "source": [
    "g(M) # M*M*M"
   ]
  },
  {
   "cell_type": "code",
   "execution_count": null,
   "metadata": {},
   "outputs": [],
   "source": [
    "g(\"Yo\")"
   ]
  },
  {
   "cell_type": "markdown",
   "metadata": {},
   "source": [
    "You can also create another variant of the function specific to integers:"
   ]
  },
  {
   "cell_type": "code",
   "execution_count": null,
   "metadata": {},
   "outputs": [],
   "source": [
    "f(x::Int64) = x*x"
   ]
  },
  {
   "cell_type": "code",
   "execution_count": null,
   "metadata": {},
   "outputs": [],
   "source": [
    "f(5)"
   ]
  },
  {
   "cell_type": "markdown",
   "metadata": {},
   "source": [
    "```@which``` can be used to tell you which variant is called for the argument that you passed"
   ]
  },
  {
   "cell_type": "code",
   "execution_count": null,
   "metadata": {},
   "outputs": [],
   "source": [
    "@which f(5)"
   ]
  },
  {
   "cell_type": "markdown",
   "metadata": {},
   "source": [
    "* This can be done with different numbers and types of arguments (called multiple dispatch)\n",
    "* The methods that implement some function can be obtained using ```methods()```\n",
    "* Over 100 methods implement ```+```"
   ]
  },
  {
   "cell_type": "code",
   "execution_count": null,
   "metadata": {},
   "outputs": [],
   "source": [
    "methods(+)"
   ]
  },
  {
   "cell_type": "markdown",
   "metadata": {},
   "source": [
    "Array comprehension:"
   ]
  },
  {
   "cell_type": "code",
   "execution_count": null,
   "metadata": {},
   "outputs": [],
   "source": [
    "A = [i + j for i in 1:3, j in 1:3]"
   ]
  },
  {
   "cell_type": "markdown",
   "metadata": {},
   "source": [
    "Counting the number of positive elements in a vector:"
   ]
  },
  {
   "cell_type": "code",
   "execution_count": null,
   "metadata": {},
   "outputs": [],
   "source": [
    "u = rand(10,1) .- 0.5 # Vector of 10 random numbers between -0.5 and 0.5"
   ]
  },
  {
   "cell_type": "code",
   "execution_count": null,
   "metadata": {},
   "outputs": [],
   "source": [
    "u .> 0 # Elementwise logical "
   ]
  },
  {
   "cell_type": "code",
   "execution_count": null,
   "metadata": {},
   "outputs": [],
   "source": [
    "sum(u .> 0) # Number of positive elements"
   ]
  },
  {
   "cell_type": "code",
   "execution_count": null,
   "metadata": {},
   "outputs": [],
   "source": [
    "v = [i for i in 1:5]"
   ]
  },
  {
   "cell_type": "markdown",
   "metadata": {},
   "source": [
    "Functions are applied elementwise with a dot as well:"
   ]
  },
  {
   "cell_type": "code",
   "execution_count": null,
   "metadata": {},
   "outputs": [],
   "source": [
    "f.(v)"
   ]
  },
  {
   "cell_type": "markdown",
   "metadata": {},
   "source": [
    "Conditionals:"
   ]
  },
  {
   "cell_type": "code",
   "execution_count": null,
   "metadata": {},
   "outputs": [],
   "source": [
    "function lousyMax(a, b, c)\n",
    "    if a >= b\n",
    "        if a >= c\n",
    "            return a\n",
    "        else\n",
    "            return c\n",
    "        end\n",
    "    elseif b >= c\n",
    "        return b\n",
    "    else\n",
    "        return c\n",
    "    end\n",
    "end"
   ]
  },
  {
   "cell_type": "code",
   "execution_count": null,
   "metadata": {},
   "outputs": [],
   "source": [
    "println(lousyMax(3,7,2))\n",
    "println(lousyMax(1,6,9))"
   ]
  },
  {
   "cell_type": "markdown",
   "metadata": {},
   "source": [
    "Using ```$``` in a string evaluates the expression that follows and converts it into a string "
   ]
  },
  {
   "cell_type": "code",
   "execution_count": null,
   "metadata": {},
   "outputs": [],
   "source": [
    "N = 1\n",
    "while N <= 5\n",
    "    println(\"$N squared is $(f(N))\")\n",
    "    N = N + 1\n",
    "end"
   ]
  },
  {
   "cell_type": "markdown",
   "metadata": {},
   "source": [
    "Exercise (Project Euler Problem 2): consider the Fibonacci numbers $F(n)$ which are $1,2,3,5,8,13,21,\\dots$, specifically, $$F(1) = 1,\\,F(2) = 2,\\, F(n) = F(n-1) + F(n-2)\\quad \\forall n \\geq 2$$\n",
    "Compute the sum of the even Fibonacci numbers strictly smaller than four million and store the result in a variable named ```fibsum```. Write the code in between this cell and the cell with the ```@assert``` which verfies your result. Recall that you can use `x`, `a`, and `b` to create and delete cells (after pressing `Escape` to exit edit mode)."
   ]
  },
  {
   "cell_type": "code",
   "execution_count": null,
   "metadata": {},
   "outputs": [],
   "source": [
    "# Maybe define a F(n) function here?"
   ]
  },
  {
   "cell_type": "code",
   "execution_count": null,
   "metadata": {},
   "outputs": [],
   "source": [
    "# Maybe test F(n) here?"
   ]
  },
  {
   "cell_type": "code",
   "execution_count": null,
   "metadata": {},
   "outputs": [],
   "source": [
    "# Write the rest of the code here"
   ]
  },
  {
   "cell_type": "code",
   "execution_count": null,
   "metadata": {},
   "outputs": [],
   "source": [
    "@assert fibsum == 4613732 # Throws an error if your answer is wrong"
   ]
  },
  {
   "cell_type": "markdown",
   "metadata": {},
   "source": [
    "Matrices (2-dimensional arrays):"
   ]
  },
  {
   "cell_type": "code",
   "execution_count": null,
   "metadata": {},
   "outputs": [],
   "source": [
    "A = [1 2 3; 4 5 6; 7 8 9]"
   ]
  },
  {
   "cell_type": "code",
   "execution_count": null,
   "metadata": {},
   "outputs": [],
   "source": [
    "size(A)"
   ]
  },
  {
   "cell_type": "markdown",
   "metadata": {},
   "source": [
    "Every one-dimensional array will by default be a \"column\" vector"
   ]
  },
  {
   "cell_type": "code",
   "execution_count": null,
   "metadata": {},
   "outputs": [],
   "source": [
    "A[2,:] # Second ROW of A"
   ]
  },
  {
   "cell_type": "code",
   "execution_count": null,
   "metadata": {},
   "outputs": [],
   "source": [
    "A[:,3] # Third COLUMN of A"
   ]
  },
  {
   "cell_type": "code",
   "execution_count": null,
   "metadata": {},
   "outputs": [],
   "source": [
    "A[2:3,2:3]"
   ]
  },
  {
   "cell_type": "code",
   "execution_count": null,
   "metadata": {},
   "outputs": [],
   "source": [
    "B = [A 2A; 3A 4A] # You can construct matrices from other matrices"
   ]
  },
  {
   "cell_type": "code",
   "execution_count": null,
   "metadata": {},
   "outputs": [],
   "source": [
    "a = Float64[] # Create empty array of floats"
   ]
  },
  {
   "cell_type": "code",
   "execution_count": null,
   "metadata": {},
   "outputs": [],
   "source": [
    "push!(a, 21)\n",
    "push!(a, 23)\n",
    "push!(a, 29)"
   ]
  },
  {
   "cell_type": "code",
   "execution_count": null,
   "metadata": {},
   "outputs": [],
   "source": [
    "a"
   ]
  },
  {
   "cell_type": "code",
   "execution_count": null,
   "metadata": {},
   "outputs": [],
   "source": [
    "pop!(a)"
   ]
  },
  {
   "cell_type": "code",
   "execution_count": null,
   "metadata": {},
   "outputs": [],
   "source": [
    "a"
   ]
  },
  {
   "cell_type": "code",
   "execution_count": null,
   "metadata": {},
   "outputs": [],
   "source": [
    "popfirst!(a)"
   ]
  },
  {
   "cell_type": "code",
   "execution_count": null,
   "metadata": {},
   "outputs": [],
   "source": [
    "a"
   ]
  },
  {
   "cell_type": "markdown",
   "metadata": {},
   "source": [
    "Some useful functions:"
   ]
  },
  {
   "cell_type": "code",
   "execution_count": null,
   "metadata": {},
   "outputs": [],
   "source": [
    "using LinearAlgebra"
   ]
  },
  {
   "cell_type": "code",
   "execution_count": null,
   "metadata": {},
   "outputs": [],
   "source": [
    "I(3) # Identity matrix"
   ]
  },
  {
   "cell_type": "code",
   "execution_count": null,
   "metadata": {},
   "outputs": [],
   "source": [
    "A + I(3)"
   ]
  },
  {
   "cell_type": "code",
   "execution_count": null,
   "metadata": {},
   "outputs": [],
   "source": [
    "ones(3,3)"
   ]
  },
  {
   "cell_type": "code",
   "execution_count": null,
   "metadata": {},
   "outputs": [],
   "source": [
    "A + ones(Int64, 3, 3)"
   ]
  },
  {
   "cell_type": "code",
   "execution_count": null,
   "metadata": {},
   "outputs": [],
   "source": [
    "A = rand(3,3)"
   ]
  },
  {
   "cell_type": "code",
   "execution_count": null,
   "metadata": {},
   "outputs": [],
   "source": [
    "diag(A)"
   ]
  },
  {
   "cell_type": "code",
   "execution_count": null,
   "metadata": {},
   "outputs": [],
   "source": [
    "diagm(diag(A))"
   ]
  },
  {
   "cell_type": "code",
   "execution_count": null,
   "metadata": {},
   "outputs": [],
   "source": [
    "inv(A)*A"
   ]
  },
  {
   "cell_type": "markdown",
   "metadata": {},
   "source": [
    "```transpose()``` gives the transpose and ```'``` gives the conjugate tranpose (adjoint, or complex conjugate of transpose) "
   ]
  },
  {
   "cell_type": "code",
   "execution_count": null,
   "metadata": {},
   "outputs": [],
   "source": [
    "u = rand(3)\n",
    "v = rand(3)"
   ]
  },
  {
   "cell_type": "code",
   "execution_count": null,
   "metadata": {},
   "outputs": [],
   "source": [
    "transpose(u)*v # inner product"
   ]
  },
  {
   "cell_type": "code",
   "execution_count": null,
   "metadata": {},
   "outputs": [],
   "source": [
    "u'*v"
   ]
  },
  {
   "cell_type": "code",
   "execution_count": null,
   "metadata": {},
   "outputs": [],
   "source": [
    "u'v"
   ]
  },
  {
   "cell_type": "code",
   "execution_count": null,
   "metadata": {},
   "outputs": [],
   "source": [
    "dot(u,v)"
   ]
  },
  {
   "cell_type": "markdown",
   "metadata": {},
   "source": [
    "A two-dimensional rotation matrix is given by:\n",
    "\\begin{equation}\n",
    "    R(\\theta) = \n",
    "    \\begin{bmatrix}\n",
    "    cos(\\theta) & -sin(\\theta) \\\\\n",
    "    sin(\\theta) & cos(\\theta)\n",
    "    \\end{bmatrix}\n",
    "\\end{equation}"
   ]
  },
  {
   "cell_type": "markdown",
   "metadata": {},
   "source": [
    "We can define a function that produces it as follows: "
   ]
  },
  {
   "cell_type": "code",
   "execution_count": null,
   "metadata": {},
   "outputs": [],
   "source": [
    "R(θ) = [cos(θ) -sin(θ); sin(θ) cos(θ)]"
   ]
  },
  {
   "cell_type": "code",
   "execution_count": null,
   "metadata": {},
   "outputs": [],
   "source": [
    "R(pi/4)"
   ]
  },
  {
   "cell_type": "markdown",
   "metadata": {},
   "source": [
    "A two-dimensional shear matrix is given by:\n",
    "\\begin{equation}\n",
    "    S(\\lambda) = \n",
    "    \\begin{bmatrix}\n",
    "    1 & \\lambda \\\\\n",
    "    0 & 1\n",
    "    \\end{bmatrix}\n",
    "\\end{equation}"
   ]
  },
  {
   "cell_type": "markdown",
   "metadata": {},
   "source": [
    "Exercise: Define a function which computes the shear matrix as a function of $\\lambda$:"
   ]
  },
  {
   "cell_type": "code",
   "execution_count": null,
   "metadata": {},
   "outputs": [],
   "source": [
    "# S(λ) = ... "
   ]
  },
  {
   "cell_type": "code",
   "execution_count": null,
   "metadata": {},
   "outputs": [],
   "source": [
    "S(4)"
   ]
  },
  {
   "cell_type": "code",
   "execution_count": null,
   "metadata": {},
   "outputs": [],
   "source": [
    "@assert S(4) ==  [1 4; 0 1]"
   ]
  },
  {
   "cell_type": "markdown",
   "metadata": {},
   "source": [
    "Install the standard plotting package by running the following cell:"
   ]
  },
  {
   "cell_type": "code",
   "execution_count": null,
   "metadata": {},
   "outputs": [],
   "source": [
    "using Pkg;\n",
    "Pkg.add(\"Plots\")"
   ]
  },
  {
   "cell_type": "code",
   "execution_count": null,
   "metadata": {},
   "outputs": [],
   "source": [
    "using Plots; # using is the \"import\" "
   ]
  },
  {
   "cell_type": "code",
   "execution_count": null,
   "metadata": {},
   "outputs": [],
   "source": [
    "x = [i for i = -1:0.01:1];\n",
    "plot(x, x.^2,aspect_ratio=:equal)"
   ]
  },
  {
   "cell_type": "markdown",
   "metadata": {},
   "source": [
    "By convention, ```!``` indicates that a function will change the mutable object that it's acting on"
   ]
  },
  {
   "cell_type": "code",
   "execution_count": null,
   "metadata": {},
   "outputs": [],
   "source": [
    "plot!(x, x.^4,aspect_ratio=:equal) # the \"!\" makes it modify the existing plot rather than replace it"
   ]
  },
  {
   "cell_type": "code",
   "execution_count": null,
   "metadata": {},
   "outputs": [],
   "source": [
    "p1 = plot(1, xlim=(-2,2), ylim=(-2,2), marker = 3, aspect_ratio = :equal)\n",
    "p2 = plot(1, xlim=(-2,2), ylim=(-2,2), marker = 3, aspect_ratio = :equal)\n",
    "\n",
    "for k = 1:40\n",
    "    \n",
    "    θ = 2*pi*k/40\n",
    "    λ = 1.5\n",
    "    \n",
    "    u = R(θ) * [1; 0]\n",
    "    v = S(λ) * u \n",
    "     \n",
    "    push!(p1, u[1], u[2])\n",
    "    push!(p2, v[1], v[2])\n",
    "    \n",
    "end \n",
    "\n",
    "plot(p1,p2,layout=(1,2),legend=false)"
   ]
  },
  {
   "cell_type": "markdown",
   "metadata": {},
   "source": [
    "Notice that in the above code, functions \"act\" on objects and are not \"properties\" of the objects. I.e., rather than having ```obj.method(a, b)```, we have ```method(obj, a, b)```."
   ]
  },
  {
   "cell_type": "markdown",
   "metadata": {},
   "source": [
    "The $L^p$ norm of a vector $\\mathbf{x} \\in \\mathbf{R}^n$ is given by \n",
    "\\begin{equation}\n",
    "    ||\\mathbf{x}||_p = (x_1^p + x_2^p + \\dots + x_n^p)^{1/p}\n",
    "\\end{equation}\n",
    "\n",
    "Let $n = 2$. \n",
    "Exercise: Complete the the following code to plot the $x,y$ pairs corresponding to $||\\mathbf{x}||_p = 1$ for various $p$."
   ]
  },
  {
   "cell_type": "code",
   "execution_count": null,
   "metadata": {},
   "outputs": [],
   "source": [
    "x = [i for i in LinRange(0,1,1000)];\n",
    "p3 = plot()\n",
    "\n",
    "for p = [0.2, 0.4, 0.6, 1, 2, 3, 30]\n",
    "    \n",
    "    # y = ...\n",
    "    \n",
    "    plot!(p3, x, y, label = \"p = $p\")\n",
    "    \n",
    "end\n",
    "\n",
    "plot(p3, xlim=(0,1.5), ylim=(0,1.2), aspect_ratio=:equal, \n",
    "    size=(500,500),linewidth=2, xlabel=\"x\", ylabel=\"y\")"
   ]
  },
  {
   "cell_type": "markdown",
   "metadata": {},
   "source": [
    "In this problem you investigate how geometric concepts such as\n",
    "distance and angle can be applied to quantify similarity between text\n",
    "documents. You should have the files $\\texttt{wordVecArticles.txt}$,\n",
    "$\\texttt{wordVecTitles.txt}$, $\\texttt{wordVecWords.txt}$ and\n",
    "$\\texttt{wordVecV.txt}$ from the course website. The first two files\n",
    "each have ten lines. Each line in the first file consists of the text\n",
    "of one Wikipedia article.  The corresponding line of the second file\n",
    "is the title of the article. The last two files are described in detail below.\n",
    "\n",
    "Denote by $D$ the set of documents where the number of documents\n",
    "is $|D|$.  (In our dataset $|D| = 10$).  Let $W$\n",
    "denote the union of words in all articles, i.e., the lexicon of the\n",
    "set of documents.  We denote the cardinality of $W$ by $|W|$.\n",
    "Assume the lexicon is ordered \"lexiographically\" (e.g.,\n",
    "alphabetically) so that there is a one-to-one mapping from each word\n",
    "$w \\in W$ to an element of the index set $t \\in [|W|]$.\n",
    "Let $f_{\\rm term}(t, d)$ denote the number of times the word\n",
    "$w \\in W$ that is indexed as $t\\in[|W|]$ appears in the\n",
    "$d$th article where $d \\in [|D|]$.  Note that\n",
    "$\\sum_{t=1}^{|W|} f_{\\rm term}(t,d)$ is the number of words\n",
    "(the length) of the $d$th article.  We refer to $f_{\\rm term} (t, d)$\n",
    "as the \"term frequency\" (really \"term count\").\n",
    "\n",
    "A pre-computed $W$ set and pre-computed $f_{\\rm term}(t,d)$\n",
    "have been provided.\n",
    "The pre-processed data appears in the files\n",
    "$\\texttt{wordVecWords.txt}$ and $\\texttt{wordVecV.txt}$. The first\n",
    "file represents the set $W$ where elements of $W$ are listed\n",
    "line by line, for $1651$ lines, i.e., $|W| = 1651$. The file\n",
    "$\\texttt{wordVecV.txt}$ contains a matrix \n",
    "$\\texttt{V}$ of dimensions $1651 \\times 10$. The value in the $t$th\n",
    "row and $d$th column of this matrix is $f_{\\rm term}(t, d)$. Use the\n",
    "provided data in $\\texttt{V}$ to answer parts (a) to (d) of this\n",
    "problem."
   ]
  },
  {
   "cell_type": "markdown",
   "metadata": {},
   "source": [
    "(a)  Let the \n",
    "$|W|$-dimensional vectors $v_d$, $d \\in [|D|]$ be defined\n",
    "as $v_d = (f_{\\rm term}(1, d), f_{\\rm term}(2, d), \\dots, f_{\\rm\n",
    "term}(|W|, d))$.  Using $v_d$ to represent the $d$th document,\n",
    "which two articles are closest in Euclidean distance (smallest\n",
    "distance)?  Which two are closest in angle distance (smallest angle)?\n",
    "Are they the same pair, if not, what could be a reason for them being\n",
    "different? The functions ```norm``` and ```findmin```, could be useful.\n",
    "Recall that you can read the documentation for a function using ```?function```.\n",
    "You'll also need to compute pairwise distances. The Distances.jl package could be \n",
    "used (Google it). But you can also just do it by yourself, your code doesn't\n",
    "need to be efficient. "
   ]
  },
  {
   "cell_type": "markdown",
   "metadata": {},
   "source": [
    "Some code for loading the files has been written to start you off. "
   ]
  },
  {
   "cell_type": "code",
   "execution_count": null,
   "metadata": {},
   "outputs": [],
   "source": [
    "file = open(\"wordVecTitles.txt\")"
   ]
  },
  {
   "cell_type": "code",
   "execution_count": null,
   "metadata": {},
   "outputs": [],
   "source": [
    "titles = readlines(file)"
   ]
  },
  {
   "cell_type": "code",
   "execution_count": null,
   "metadata": {},
   "outputs": [],
   "source": [
    "close(file)"
   ]
  },
  {
   "cell_type": "code",
   "execution_count": null,
   "metadata": {},
   "outputs": [],
   "source": [
    "file = open(\"wordVecWords.txt\")\n",
    "words = readlines(file)\n",
    "close(file)"
   ]
  },
  {
   "cell_type": "code",
   "execution_count": null,
   "metadata": {},
   "outputs": [],
   "source": [
    "using DelimitedFiles"
   ]
  },
  {
   "cell_type": "code",
   "execution_count": null,
   "metadata": {},
   "outputs": [],
   "source": [
    "V = readdlm(\"wordVecV.txt\", ',', Float64, '\\n') # The entries of this are f_term(t,d)"
   ]
  },
  {
   "cell_type": "code",
   "execution_count": null,
   "metadata": {},
   "outputs": [],
   "source": [
    "# Start here, maybe define/test norm/angle functions?"
   ]
  },
  {
   "cell_type": "markdown",
   "metadata": {},
   "source": [
    "Type your answers to (a) in the Markdown cell below this one:"
   ]
  },
  {
   "cell_type": "markdown",
   "metadata": {},
   "source": [
    "Answer:"
   ]
  },
  {
   "cell_type": "markdown",
   "metadata": {},
   "source": [
    "(b) In this part let the \n",
    "$|W|$-dimensional normalized vectors $\\tilde{v}_d$, $d \\in\n",
    "[|D|]$ be defined as $\\tilde{v}_d = v_d / \\sum_{t=1}^{|\n",
    "W|} f_{\\rm term}(t,d)$, where the $v_d$ are defined as in the\n",
    "previous part.  Using $\\tilde{v}_d$ to represent the $d$th document,\n",
    "which two articles are closest in Euclidean distance (smallest\n",
    "distance)?  Which two are closest in angle distance (smallest angle)?\n",
    "Are your answers the same as in the previous part?  What would be a\n",
    "reason for using this normalization?"
   ]
  },
  {
   "cell_type": "code",
   "execution_count": null,
   "metadata": {},
   "outputs": [],
   "source": [
    "# Start here"
   ]
  },
  {
   "cell_type": "markdown",
   "metadata": {},
   "source": [
    "Type your answers to (b) in the Markdown cell below this one:"
   ]
  },
  {
   "cell_type": "markdown",
   "metadata": {},
   "source": [
    "Answer:"
   ]
  },
  {
   "cell_type": "markdown",
   "metadata": {},
   "source": [
    "Now, let $f_{\\rm doc}(t) = \\sum_{d=1}^{|D|} \\mathbb{I}[f_{\\rm\n",
    "term} (t, d) > 0]$ where $\\mathbb{I}(\\cdot)$ is the indicator function\n",
    "taking value one if the clause is true and zero else. The function\n",
    "$f_{\\rm doc}(t)$ counts in how many documents the $t$th word appears.\n",
    "We refer to $f_{\\rm doc}(t)$ as the document frequency.\n",
    "\n",
    "We combine the term and document frequency definitions into what is\n",
    "called the term frequency-inverse document frequency score\n",
    "(TF-IDF), defined as \n",
    "\\begin{equation*}\n",
    "w(t, d) = \\frac{f_{\\rm term}(t, d)}{\\sum_{t=1}^{|W|} f_{\\rm\n",
    "term}(t, d)}\\sqrt{\\log\\left(\\frac{|D| }{f_{\\rm doc}(t)}\\right)}.\n",
    "\\end{equation*}\n",
    "Note, the denominator of the $\\log$ is never zero since, by\n",
    "definition, each term appears in at least one document.\n",
    "\n",
    "(c) Now let the $|W|$-dimensional vectors $w_d$, $d \\in [|D|]$ be defined as $w_d = (w(1,d), w(2, d), \\ldots, w(|W|, d))$. Using $w_d$ to represent the $d$th document, which two articles are closest in Euclidean distance (smallest\n",
    "distance)? Which two are closest in angle distance (smallest angle)?\n",
    "\n",
    "(d) What might be a reason for using the \"inverse document frequency\" adjustment?  What is the adjustment doing geometrically?"
   ]
  },
  {
   "cell_type": "code",
   "execution_count": null,
   "metadata": {},
   "outputs": [],
   "source": [
    "# Start here"
   ]
  },
  {
   "cell_type": "markdown",
   "metadata": {},
   "source": [
    "Type your answers to (c) and (d) in the Markdown cell below this one:"
   ]
  },
  {
   "cell_type": "markdown",
   "metadata": {},
   "source": [
    "Answer:"
   ]
  },
  {
   "cell_type": "markdown",
   "metadata": {},
   "source": [
    "OPTIONAL EXERCISE: (e) Write code to obtain $W$ and $f_{\\rm term}(t,d)$ (which we named ```V```) from the raw data files (articles and titles). Store the results in variables named ```myW``` and ```myV```"
   ]
  },
  {
   "cell_type": "code",
   "execution_count": null,
   "metadata": {},
   "outputs": [],
   "source": [
    "# Start here"
   ]
  },
  {
   "cell_type": "code",
   "execution_count": null,
   "metadata": {},
   "outputs": [],
   "source": [
    "@assert myV == V"
   ]
  },
  {
   "cell_type": "code",
   "execution_count": null,
   "metadata": {},
   "outputs": [],
   "source": [
    "@assert myW == words"
   ]
  }
 ],
 "metadata": {
  "kernelspec": {
   "display_name": "Julia 1.2.0",
   "language": "julia",
   "name": "julia-1.2"
  },
  "language_info": {
   "file_extension": ".jl",
   "mimetype": "application/julia",
   "name": "julia",
   "version": "1.2.0"
  }
 },
 "nbformat": 4,
 "nbformat_minor": 2
}
